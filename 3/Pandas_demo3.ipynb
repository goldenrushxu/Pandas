{
 "cells": [
  {
   "cell_type": "code",
   "execution_count": 2,
   "metadata": {},
   "outputs": [],
   "source": [
    "import pandas as pd\n",
    "fpath = \"tianqi.csv\""
   ]
  },
  {
   "cell_type": "code",
   "execution_count": 3,
   "metadata": {},
   "outputs": [],
   "source": [
    "df = pd.read_csv(fpath)"
   ]
  },
  {
   "cell_type": "code",
   "execution_count": 4,
   "metadata": {},
   "outputs": [
    {
     "data": {
      "text/html": [
       "<div>\n",
       "<style scoped>\n",
       "    .dataframe tbody tr th:only-of-type {\n",
       "        vertical-align: middle;\n",
       "    }\n",
       "\n",
       "    .dataframe tbody tr th {\n",
       "        vertical-align: top;\n",
       "    }\n",
       "\n",
       "    .dataframe thead th {\n",
       "        text-align: right;\n",
       "    }\n",
       "</style>\n",
       "<table border=\"1\" class=\"dataframe\">\n",
       "  <thead>\n",
       "    <tr style=\"text-align: right;\">\n",
       "      <th></th>\n",
       "      <th>YMD</th>\n",
       "      <th>bWendu</th>\n",
       "      <th>yWendu</th>\n",
       "      <th>Tianqi</th>\n",
       "      <th>Fengxiang</th>\n",
       "      <th>Fengli</th>\n",
       "      <th>aqi</th>\n",
       "      <th>aqiinfo</th>\n",
       "      <th>aqiLevel</th>\n",
       "    </tr>\n",
       "  </thead>\n",
       "  <tbody>\n",
       "    <tr>\n",
       "      <th>0</th>\n",
       "      <td>1/01/2018</td>\n",
       "      <td>3°C</td>\n",
       "      <td>-12°C</td>\n",
       "      <td>晴</td>\n",
       "      <td>东北风</td>\n",
       "      <td>1-2级</td>\n",
       "      <td>43</td>\n",
       "      <td>优</td>\n",
       "      <td>1</td>\n",
       "    </tr>\n",
       "    <tr>\n",
       "      <th>1</th>\n",
       "      <td>2/01/2018</td>\n",
       "      <td>6°C</td>\n",
       "      <td>-4°C</td>\n",
       "      <td>阴-多云</td>\n",
       "      <td>东风</td>\n",
       "      <td>1-3级</td>\n",
       "      <td>56</td>\n",
       "      <td>良</td>\n",
       "      <td>2</td>\n",
       "    </tr>\n",
       "    <tr>\n",
       "      <th>2</th>\n",
       "      <td>3/01/2018</td>\n",
       "      <td>4°C</td>\n",
       "      <td>-21°C</td>\n",
       "      <td>晴-多云</td>\n",
       "      <td>北风</td>\n",
       "      <td>3级</td>\n",
       "      <td>13</td>\n",
       "      <td>优</td>\n",
       "      <td>1</td>\n",
       "    </tr>\n",
       "    <tr>\n",
       "      <th>3</th>\n",
       "      <td>4/01/2018</td>\n",
       "      <td>9°C</td>\n",
       "      <td>-13°C</td>\n",
       "      <td>多云</td>\n",
       "      <td>东南风</td>\n",
       "      <td>2-3级</td>\n",
       "      <td>67</td>\n",
       "      <td>良</td>\n",
       "      <td>2</td>\n",
       "    </tr>\n",
       "    <tr>\n",
       "      <th>4</th>\n",
       "      <td>5/01/2018</td>\n",
       "      <td>3°C</td>\n",
       "      <td>-6°C</td>\n",
       "      <td>阴</td>\n",
       "      <td>南风</td>\n",
       "      <td>2级</td>\n",
       "      <td>54</td>\n",
       "      <td>良</td>\n",
       "      <td>2</td>\n",
       "    </tr>\n",
       "    <tr>\n",
       "      <th>5</th>\n",
       "      <td>6/01/2018</td>\n",
       "      <td>5°C</td>\n",
       "      <td>-4°C</td>\n",
       "      <td>多云</td>\n",
       "      <td>东风</td>\n",
       "      <td>1级</td>\n",
       "      <td>63</td>\n",
       "      <td>良</td>\n",
       "      <td>2</td>\n",
       "    </tr>\n",
       "    <tr>\n",
       "      <th>6</th>\n",
       "      <td>7/01/2018</td>\n",
       "      <td>4°C</td>\n",
       "      <td>-9°C</td>\n",
       "      <td>晴</td>\n",
       "      <td>东北风</td>\n",
       "      <td>1-2级</td>\n",
       "      <td>15</td>\n",
       "      <td>优</td>\n",
       "      <td>1</td>\n",
       "    </tr>\n",
       "  </tbody>\n",
       "</table>\n",
       "</div>"
      ],
      "text/plain": [
       "         YMD bWendu yWendu Tianqi Fengxiang Fengli  aqi aqiinfo  aqiLevel\n",
       "0  1/01/2018    3°C  -12°C      晴       东北风   1-2级   43       优         1\n",
       "1  2/01/2018    6°C   -4°C   阴-多云        东风   1-3级   56       良         2\n",
       "2  3/01/2018    4°C  -21°C   晴-多云        北风     3级   13       优         1\n",
       "3  4/01/2018    9°C  -13°C     多云       东南风   2-3级   67       良         2\n",
       "4  5/01/2018    3°C   -6°C      阴        南风     2级   54       良         2\n",
       "5  6/01/2018    5°C   -4°C     多云        东风     1级   63       良         2\n",
       "6  7/01/2018    4°C   -9°C      晴       东北风   1-2级   15       优         1"
      ]
     },
     "execution_count": 4,
     "metadata": {},
     "output_type": "execute_result"
    }
   ],
   "source": [
    "df.head(7)"
   ]
  },
  {
   "cell_type": "code",
   "execution_count": 5,
   "metadata": {},
   "outputs": [],
   "source": [
    "df.set_index('YMD',inplace = True)"
   ]
  },
  {
   "cell_type": "code",
   "execution_count": 6,
   "metadata": {},
   "outputs": [
    {
     "data": {
      "text/plain": [
       "Index(['1/01/2018', '2/01/2018', '3/01/2018', '4/01/2018', '5/01/2018',\n",
       "       '6/01/2018', '7/01/2018'],\n",
       "      dtype='object', name='YMD')"
      ]
     },
     "execution_count": 6,
     "metadata": {},
     "output_type": "execute_result"
    }
   ],
   "source": [
    "df.index"
   ]
  },
  {
   "cell_type": "code",
   "execution_count": 7,
   "metadata": {},
   "outputs": [
    {
     "data": {
      "text/html": [
       "<div>\n",
       "<style scoped>\n",
       "    .dataframe tbody tr th:only-of-type {\n",
       "        vertical-align: middle;\n",
       "    }\n",
       "\n",
       "    .dataframe tbody tr th {\n",
       "        vertical-align: top;\n",
       "    }\n",
       "\n",
       "    .dataframe thead th {\n",
       "        text-align: right;\n",
       "    }\n",
       "</style>\n",
       "<table border=\"1\" class=\"dataframe\">\n",
       "  <thead>\n",
       "    <tr style=\"text-align: right;\">\n",
       "      <th></th>\n",
       "      <th>bWendu</th>\n",
       "      <th>yWendu</th>\n",
       "      <th>Tianqi</th>\n",
       "      <th>Fengxiang</th>\n",
       "      <th>Fengli</th>\n",
       "      <th>aqi</th>\n",
       "      <th>aqiinfo</th>\n",
       "      <th>aqiLevel</th>\n",
       "    </tr>\n",
       "    <tr>\n",
       "      <th>YMD</th>\n",
       "      <th></th>\n",
       "      <th></th>\n",
       "      <th></th>\n",
       "      <th></th>\n",
       "      <th></th>\n",
       "      <th></th>\n",
       "      <th></th>\n",
       "      <th></th>\n",
       "    </tr>\n",
       "  </thead>\n",
       "  <tbody>\n",
       "    <tr>\n",
       "      <th>1/01/2018</th>\n",
       "      <td>3°C</td>\n",
       "      <td>-12°C</td>\n",
       "      <td>晴</td>\n",
       "      <td>东北风</td>\n",
       "      <td>1-2级</td>\n",
       "      <td>43</td>\n",
       "      <td>优</td>\n",
       "      <td>1</td>\n",
       "    </tr>\n",
       "    <tr>\n",
       "      <th>2/01/2018</th>\n",
       "      <td>6°C</td>\n",
       "      <td>-4°C</td>\n",
       "      <td>阴-多云</td>\n",
       "      <td>东风</td>\n",
       "      <td>1-3级</td>\n",
       "      <td>56</td>\n",
       "      <td>良</td>\n",
       "      <td>2</td>\n",
       "    </tr>\n",
       "    <tr>\n",
       "      <th>3/01/2018</th>\n",
       "      <td>4°C</td>\n",
       "      <td>-21°C</td>\n",
       "      <td>晴-多云</td>\n",
       "      <td>北风</td>\n",
       "      <td>3级</td>\n",
       "      <td>13</td>\n",
       "      <td>优</td>\n",
       "      <td>1</td>\n",
       "    </tr>\n",
       "    <tr>\n",
       "      <th>4/01/2018</th>\n",
       "      <td>9°C</td>\n",
       "      <td>-13°C</td>\n",
       "      <td>多云</td>\n",
       "      <td>东南风</td>\n",
       "      <td>2-3级</td>\n",
       "      <td>67</td>\n",
       "      <td>良</td>\n",
       "      <td>2</td>\n",
       "    </tr>\n",
       "    <tr>\n",
       "      <th>5/01/2018</th>\n",
       "      <td>3°C</td>\n",
       "      <td>-6°C</td>\n",
       "      <td>阴</td>\n",
       "      <td>南风</td>\n",
       "      <td>2级</td>\n",
       "      <td>54</td>\n",
       "      <td>良</td>\n",
       "      <td>2</td>\n",
       "    </tr>\n",
       "    <tr>\n",
       "      <th>6/01/2018</th>\n",
       "      <td>5°C</td>\n",
       "      <td>-4°C</td>\n",
       "      <td>多云</td>\n",
       "      <td>东风</td>\n",
       "      <td>1级</td>\n",
       "      <td>63</td>\n",
       "      <td>良</td>\n",
       "      <td>2</td>\n",
       "    </tr>\n",
       "    <tr>\n",
       "      <th>7/01/2018</th>\n",
       "      <td>4°C</td>\n",
       "      <td>-9°C</td>\n",
       "      <td>晴</td>\n",
       "      <td>东北风</td>\n",
       "      <td>1-2级</td>\n",
       "      <td>15</td>\n",
       "      <td>优</td>\n",
       "      <td>1</td>\n",
       "    </tr>\n",
       "  </tbody>\n",
       "</table>\n",
       "</div>"
      ],
      "text/plain": [
       "          bWendu yWendu Tianqi Fengxiang Fengli  aqi aqiinfo  aqiLevel\n",
       "YMD                                                                   \n",
       "1/01/2018    3°C  -12°C      晴       东北风   1-2级   43       优         1\n",
       "2/01/2018    6°C   -4°C   阴-多云        东风   1-3级   56       良         2\n",
       "3/01/2018    4°C  -21°C   晴-多云        北风     3级   13       优         1\n",
       "4/01/2018    9°C  -13°C     多云       东南风   2-3级   67       良         2\n",
       "5/01/2018    3°C   -6°C      阴        南风     2级   54       良         2\n",
       "6/01/2018    5°C   -4°C     多云        东风     1级   63       良         2\n",
       "7/01/2018    4°C   -9°C      晴       东北风   1-2级   15       优         1"
      ]
     },
     "execution_count": 7,
     "metadata": {},
     "output_type": "execute_result"
    }
   ],
   "source": [
    "df.head(7)"
   ]
  },
  {
   "cell_type": "code",
   "execution_count": 8,
   "metadata": {},
   "outputs": [
    {
     "data": {
      "text/plain": [
       "bWendu       object\n",
       "yWendu       object\n",
       "Tianqi       object\n",
       "Fengxiang    object\n",
       "Fengli       object\n",
       "aqi           int64\n",
       "aqiinfo      object\n",
       "aqiLevel      int64\n",
       "dtype: object"
      ]
     },
     "execution_count": 8,
     "metadata": {},
     "output_type": "execute_result"
    }
   ],
   "source": [
    "df.dtypes"
   ]
  },
  {
   "cell_type": "code",
   "execution_count": 9,
   "metadata": {},
   "outputs": [
    {
     "name": "stderr",
     "output_type": "stream",
     "text": [
      "C:\\Users\\Osy\\AppData\\Local\\Temp\\ipykernel_11144\\2524731607.py:1: FutureWarning: In a future version, `df.iloc[:, i] = newvals` will attempt to set the values inplace instead of always setting a new array. To retain the old behavior, use either `df[df.columns[i]] = newvals` or, if columns are non-unique, `df.isetitem(i, newvals)`\n",
      "  df.loc[:,\"bWendu\"] = df[\"bWendu\"].str.replace(\"°C\",\"\").astype('int32')\n",
      "C:\\Users\\Osy\\AppData\\Local\\Temp\\ipykernel_11144\\2524731607.py:2: FutureWarning: In a future version, `df.iloc[:, i] = newvals` will attempt to set the values inplace instead of always setting a new array. To retain the old behavior, use either `df[df.columns[i]] = newvals` or, if columns are non-unique, `df.isetitem(i, newvals)`\n",
      "  df.loc[:,\"yWendu\"] = df[\"yWendu\"].str.replace(\"°C\",\"\").astype('int32')\n"
     ]
    }
   ],
   "source": [
    "df.loc[:,\"bWendu\"] = df[\"bWendu\"].str.replace(\"°C\",\"\").astype('int32')\n",
    "df.loc[:,\"yWendu\"] = df[\"yWendu\"].str.replace(\"°C\",\"\").astype('int32')"
   ]
  },
  {
   "cell_type": "code",
   "execution_count": 10,
   "metadata": {},
   "outputs": [
    {
     "data": {
      "text/plain": [
       "bWendu        int32\n",
       "yWendu        int32\n",
       "Tianqi       object\n",
       "Fengxiang    object\n",
       "Fengli       object\n",
       "aqi           int64\n",
       "aqiinfo      object\n",
       "aqiLevel      int64\n",
       "dtype: object"
      ]
     },
     "execution_count": 10,
     "metadata": {},
     "output_type": "execute_result"
    }
   ],
   "source": [
    "df.dtypes"
   ]
  },
  {
   "cell_type": "code",
   "execution_count": 11,
   "metadata": {},
   "outputs": [
    {
     "data": {
      "text/html": [
       "<div>\n",
       "<style scoped>\n",
       "    .dataframe tbody tr th:only-of-type {\n",
       "        vertical-align: middle;\n",
       "    }\n",
       "\n",
       "    .dataframe tbody tr th {\n",
       "        vertical-align: top;\n",
       "    }\n",
       "\n",
       "    .dataframe thead th {\n",
       "        text-align: right;\n",
       "    }\n",
       "</style>\n",
       "<table border=\"1\" class=\"dataframe\">\n",
       "  <thead>\n",
       "    <tr style=\"text-align: right;\">\n",
       "      <th></th>\n",
       "      <th>bWendu</th>\n",
       "      <th>yWendu</th>\n",
       "      <th>Tianqi</th>\n",
       "      <th>Fengxiang</th>\n",
       "      <th>Fengli</th>\n",
       "      <th>aqi</th>\n",
       "      <th>aqiinfo</th>\n",
       "      <th>aqiLevel</th>\n",
       "    </tr>\n",
       "    <tr>\n",
       "      <th>YMD</th>\n",
       "      <th></th>\n",
       "      <th></th>\n",
       "      <th></th>\n",
       "      <th></th>\n",
       "      <th></th>\n",
       "      <th></th>\n",
       "      <th></th>\n",
       "      <th></th>\n",
       "    </tr>\n",
       "  </thead>\n",
       "  <tbody>\n",
       "    <tr>\n",
       "      <th>1/01/2018</th>\n",
       "      <td>3</td>\n",
       "      <td>-12</td>\n",
       "      <td>晴</td>\n",
       "      <td>东北风</td>\n",
       "      <td>1-2级</td>\n",
       "      <td>43</td>\n",
       "      <td>优</td>\n",
       "      <td>1</td>\n",
       "    </tr>\n",
       "    <tr>\n",
       "      <th>2/01/2018</th>\n",
       "      <td>6</td>\n",
       "      <td>-4</td>\n",
       "      <td>阴-多云</td>\n",
       "      <td>东风</td>\n",
       "      <td>1-3级</td>\n",
       "      <td>56</td>\n",
       "      <td>良</td>\n",
       "      <td>2</td>\n",
       "    </tr>\n",
       "    <tr>\n",
       "      <th>3/01/2018</th>\n",
       "      <td>4</td>\n",
       "      <td>-21</td>\n",
       "      <td>晴-多云</td>\n",
       "      <td>北风</td>\n",
       "      <td>3级</td>\n",
       "      <td>13</td>\n",
       "      <td>优</td>\n",
       "      <td>1</td>\n",
       "    </tr>\n",
       "    <tr>\n",
       "      <th>4/01/2018</th>\n",
       "      <td>9</td>\n",
       "      <td>-13</td>\n",
       "      <td>多云</td>\n",
       "      <td>东南风</td>\n",
       "      <td>2-3级</td>\n",
       "      <td>67</td>\n",
       "      <td>良</td>\n",
       "      <td>2</td>\n",
       "    </tr>\n",
       "    <tr>\n",
       "      <th>5/01/2018</th>\n",
       "      <td>3</td>\n",
       "      <td>-6</td>\n",
       "      <td>阴</td>\n",
       "      <td>南风</td>\n",
       "      <td>2级</td>\n",
       "      <td>54</td>\n",
       "      <td>良</td>\n",
       "      <td>2</td>\n",
       "    </tr>\n",
       "    <tr>\n",
       "      <th>6/01/2018</th>\n",
       "      <td>5</td>\n",
       "      <td>-4</td>\n",
       "      <td>多云</td>\n",
       "      <td>东风</td>\n",
       "      <td>1级</td>\n",
       "      <td>63</td>\n",
       "      <td>良</td>\n",
       "      <td>2</td>\n",
       "    </tr>\n",
       "    <tr>\n",
       "      <th>7/01/2018</th>\n",
       "      <td>4</td>\n",
       "      <td>-9</td>\n",
       "      <td>晴</td>\n",
       "      <td>东北风</td>\n",
       "      <td>1-2级</td>\n",
       "      <td>15</td>\n",
       "      <td>优</td>\n",
       "      <td>1</td>\n",
       "    </tr>\n",
       "  </tbody>\n",
       "</table>\n",
       "</div>"
      ],
      "text/plain": [
       "           bWendu  yWendu Tianqi Fengxiang Fengli  aqi aqiinfo  aqiLevel\n",
       "YMD                                                                     \n",
       "1/01/2018       3     -12      晴       东北风   1-2级   43       优         1\n",
       "2/01/2018       6      -4   阴-多云        东风   1-3级   56       良         2\n",
       "3/01/2018       4     -21   晴-多云        北风     3级   13       优         1\n",
       "4/01/2018       9     -13     多云       东南风   2-3级   67       良         2\n",
       "5/01/2018       3      -6      阴        南风     2级   54       良         2\n",
       "6/01/2018       5      -4     多云        东风     1级   63       良         2\n",
       "7/01/2018       4      -9      晴       东北风   1-2级   15       优         1"
      ]
     },
     "execution_count": 11,
     "metadata": {},
     "output_type": "execute_result"
    }
   ],
   "source": [
    "df.head(7)\n"
   ]
  },
  {
   "attachments": {},
   "cell_type": "markdown",
   "metadata": {},
   "source": [
    "Return a value"
   ]
  },
  {
   "cell_type": "code",
   "execution_count": 12,
   "metadata": {},
   "outputs": [
    {
     "data": {
      "text/plain": [
       "-13"
      ]
     },
     "execution_count": 12,
     "metadata": {},
     "output_type": "execute_result"
    }
   ],
   "source": [
    "df.loc[\"4/01/2018\",\"yWendu\"]"
   ]
  },
  {
   "attachments": {},
   "cell_type": "markdown",
   "metadata": {},
   "source": [
    "Return a series"
   ]
  },
  {
   "cell_type": "code",
   "execution_count": 13,
   "metadata": {},
   "outputs": [
    {
     "data": {
      "text/plain": [
       "bWendu      9\n",
       "yWendu    -13\n",
       "Name: 4/01/2018, dtype: object"
      ]
     },
     "execution_count": 13,
     "metadata": {},
     "output_type": "execute_result"
    }
   ],
   "source": [
    "df.loc['4/01/2018',['bWendu','yWendu']]"
   ]
  },
  {
   "attachments": {},
   "cell_type": "markdown",
   "metadata": {},
   "source": [
    "Return a dataFrame"
   ]
  },
  {
   "cell_type": "code",
   "execution_count": 14,
   "metadata": {},
   "outputs": [
    {
     "data": {
      "text/html": [
       "<div>\n",
       "<style scoped>\n",
       "    .dataframe tbody tr th:only-of-type {\n",
       "        vertical-align: middle;\n",
       "    }\n",
       "\n",
       "    .dataframe tbody tr th {\n",
       "        vertical-align: top;\n",
       "    }\n",
       "\n",
       "    .dataframe thead th {\n",
       "        text-align: right;\n",
       "    }\n",
       "</style>\n",
       "<table border=\"1\" class=\"dataframe\">\n",
       "  <thead>\n",
       "    <tr style=\"text-align: right;\">\n",
       "      <th></th>\n",
       "      <th>bWendu</th>\n",
       "      <th>yWendu</th>\n",
       "    </tr>\n",
       "    <tr>\n",
       "      <th>YMD</th>\n",
       "      <th></th>\n",
       "      <th></th>\n",
       "    </tr>\n",
       "  </thead>\n",
       "  <tbody>\n",
       "    <tr>\n",
       "      <th>2/01/2018</th>\n",
       "      <td>6</td>\n",
       "      <td>-4</td>\n",
       "    </tr>\n",
       "    <tr>\n",
       "      <th>4/01/2018</th>\n",
       "      <td>9</td>\n",
       "      <td>-13</td>\n",
       "    </tr>\n",
       "    <tr>\n",
       "      <th>6/01/2018</th>\n",
       "      <td>5</td>\n",
       "      <td>-4</td>\n",
       "    </tr>\n",
       "  </tbody>\n",
       "</table>\n",
       "</div>"
      ],
      "text/plain": [
       "           bWendu  yWendu\n",
       "YMD                      \n",
       "2/01/2018       6      -4\n",
       "4/01/2018       9     -13\n",
       "6/01/2018       5      -4"
      ]
     },
     "execution_count": 14,
     "metadata": {},
     "output_type": "execute_result"
    }
   ],
   "source": [
    "df.loc[['2/01/2018','4/01/2018','6/01/2018'],['bWendu','yWendu']]"
   ]
  },
  {
   "attachments": {},
   "cell_type": "markdown",
   "metadata": {},
   "source": [
    "Retrun a range"
   ]
  },
  {
   "cell_type": "code",
   "execution_count": 15,
   "metadata": {},
   "outputs": [
    {
     "data": {
      "text/plain": [
       "YMD\n",
       "1/01/2018    3\n",
       "2/01/2018    6\n",
       "3/01/2018    4\n",
       "4/01/2018    9\n",
       "Name: bWendu, dtype: int32"
      ]
     },
     "execution_count": 15,
     "metadata": {},
     "output_type": "execute_result"
    }
   ],
   "source": [
    "df.loc[\"01/2018\":\"4/01/2018\",\"bWendu\"]"
   ]
  },
  {
   "cell_type": "code",
   "execution_count": 16,
   "metadata": {},
   "outputs": [
    {
     "data": {
      "text/plain": [
       "bWendu          9\n",
       "yWendu        -13\n",
       "Tianqi         多云\n",
       "Fengxiang     东南风\n",
       "Fengli       2-3级\n",
       "aqi            67\n",
       "Name: 4/01/2018, dtype: object"
      ]
     },
     "execution_count": 16,
     "metadata": {},
     "output_type": "execute_result"
    }
   ],
   "source": [
    "df.loc[\"4/01/2018\",\"bWendu\":\"aqi\"]"
   ]
  },
  {
   "cell_type": "code",
   "execution_count": 17,
   "metadata": {},
   "outputs": [
    {
     "data": {
      "text/html": [
       "<div>\n",
       "<style scoped>\n",
       "    .dataframe tbody tr th:only-of-type {\n",
       "        vertical-align: middle;\n",
       "    }\n",
       "\n",
       "    .dataframe tbody tr th {\n",
       "        vertical-align: top;\n",
       "    }\n",
       "\n",
       "    .dataframe thead th {\n",
       "        text-align: right;\n",
       "    }\n",
       "</style>\n",
       "<table border=\"1\" class=\"dataframe\">\n",
       "  <thead>\n",
       "    <tr style=\"text-align: right;\">\n",
       "      <th></th>\n",
       "      <th>bWendu</th>\n",
       "      <th>yWendu</th>\n",
       "      <th>Tianqi</th>\n",
       "      <th>Fengxiang</th>\n",
       "      <th>Fengli</th>\n",
       "      <th>aqi</th>\n",
       "    </tr>\n",
       "    <tr>\n",
       "      <th>YMD</th>\n",
       "      <th></th>\n",
       "      <th></th>\n",
       "      <th></th>\n",
       "      <th></th>\n",
       "      <th></th>\n",
       "      <th></th>\n",
       "    </tr>\n",
       "  </thead>\n",
       "  <tbody>\n",
       "    <tr>\n",
       "      <th>1/01/2018</th>\n",
       "      <td>3</td>\n",
       "      <td>-12</td>\n",
       "      <td>晴</td>\n",
       "      <td>东北风</td>\n",
       "      <td>1-2级</td>\n",
       "      <td>43</td>\n",
       "    </tr>\n",
       "    <tr>\n",
       "      <th>2/01/2018</th>\n",
       "      <td>6</td>\n",
       "      <td>-4</td>\n",
       "      <td>阴-多云</td>\n",
       "      <td>东风</td>\n",
       "      <td>1-3级</td>\n",
       "      <td>56</td>\n",
       "    </tr>\n",
       "    <tr>\n",
       "      <th>3/01/2018</th>\n",
       "      <td>4</td>\n",
       "      <td>-21</td>\n",
       "      <td>晴-多云</td>\n",
       "      <td>北风</td>\n",
       "      <td>3级</td>\n",
       "      <td>13</td>\n",
       "    </tr>\n",
       "    <tr>\n",
       "      <th>4/01/2018</th>\n",
       "      <td>9</td>\n",
       "      <td>-13</td>\n",
       "      <td>多云</td>\n",
       "      <td>东南风</td>\n",
       "      <td>2-3级</td>\n",
       "      <td>67</td>\n",
       "    </tr>\n",
       "  </tbody>\n",
       "</table>\n",
       "</div>"
      ],
      "text/plain": [
       "           bWendu  yWendu Tianqi Fengxiang Fengli  aqi\n",
       "YMD                                                   \n",
       "1/01/2018       3     -12      晴       东北风   1-2级   43\n",
       "2/01/2018       6      -4   阴-多云        东风   1-3级   56\n",
       "3/01/2018       4     -21   晴-多云        北风     3级   13\n",
       "4/01/2018       9     -13     多云       东南风   2-3级   67"
      ]
     },
     "execution_count": 17,
     "metadata": {},
     "output_type": "execute_result"
    }
   ],
   "source": [
    "df.loc[\"01/2018\":\"4/01/2018\",\"bWendu\":\"aqi\"]"
   ]
  },
  {
   "cell_type": "code",
   "execution_count": 18,
   "metadata": {},
   "outputs": [
    {
     "data": {
      "text/html": [
       "<div>\n",
       "<style scoped>\n",
       "    .dataframe tbody tr th:only-of-type {\n",
       "        vertical-align: middle;\n",
       "    }\n",
       "\n",
       "    .dataframe tbody tr th {\n",
       "        vertical-align: top;\n",
       "    }\n",
       "\n",
       "    .dataframe thead th {\n",
       "        text-align: right;\n",
       "    }\n",
       "</style>\n",
       "<table border=\"1\" class=\"dataframe\">\n",
       "  <thead>\n",
       "    <tr style=\"text-align: right;\">\n",
       "      <th></th>\n",
       "      <th>bWendu</th>\n",
       "      <th>yWendu</th>\n",
       "      <th>Tianqi</th>\n",
       "      <th>Fengxiang</th>\n",
       "      <th>Fengli</th>\n",
       "      <th>aqi</th>\n",
       "      <th>aqiinfo</th>\n",
       "      <th>aqiLevel</th>\n",
       "    </tr>\n",
       "    <tr>\n",
       "      <th>YMD</th>\n",
       "      <th></th>\n",
       "      <th></th>\n",
       "      <th></th>\n",
       "      <th></th>\n",
       "      <th></th>\n",
       "      <th></th>\n",
       "      <th></th>\n",
       "      <th></th>\n",
       "    </tr>\n",
       "  </thead>\n",
       "  <tbody>\n",
       "    <tr>\n",
       "      <th>1/01/2018</th>\n",
       "      <td>3</td>\n",
       "      <td>-12</td>\n",
       "      <td>晴</td>\n",
       "      <td>东北风</td>\n",
       "      <td>1-2级</td>\n",
       "      <td>43</td>\n",
       "      <td>优</td>\n",
       "      <td>1</td>\n",
       "    </tr>\n",
       "    <tr>\n",
       "      <th>3/01/2018</th>\n",
       "      <td>4</td>\n",
       "      <td>-21</td>\n",
       "      <td>晴-多云</td>\n",
       "      <td>北风</td>\n",
       "      <td>3级</td>\n",
       "      <td>13</td>\n",
       "      <td>优</td>\n",
       "      <td>1</td>\n",
       "    </tr>\n",
       "    <tr>\n",
       "      <th>4/01/2018</th>\n",
       "      <td>9</td>\n",
       "      <td>-13</td>\n",
       "      <td>多云</td>\n",
       "      <td>东南风</td>\n",
       "      <td>2-3级</td>\n",
       "      <td>67</td>\n",
       "      <td>良</td>\n",
       "      <td>2</td>\n",
       "    </tr>\n",
       "  </tbody>\n",
       "</table>\n",
       "</div>"
      ],
      "text/plain": [
       "           bWendu  yWendu Tianqi Fengxiang Fengli  aqi aqiinfo  aqiLevel\n",
       "YMD                                                                     \n",
       "1/01/2018       3     -12      晴       东北风   1-2级   43       优         1\n",
       "3/01/2018       4     -21   晴-多云        北风     3级   13       优         1\n",
       "4/01/2018       9     -13     多云       东南风   2-3级   67       良         2"
      ]
     },
     "execution_count": 18,
     "metadata": {},
     "output_type": "execute_result"
    }
   ],
   "source": [
    "df.loc[df['yWendu']<-10,:]"
   ]
  },
  {
   "cell_type": "code",
   "execution_count": 19,
   "metadata": {},
   "outputs": [
    {
     "data": {
      "text/plain": [
       "YMD\n",
       "1/01/2018     True\n",
       "2/01/2018    False\n",
       "3/01/2018     True\n",
       "4/01/2018     True\n",
       "5/01/2018    False\n",
       "6/01/2018    False\n",
       "7/01/2018    False\n",
       "Name: yWendu, dtype: bool"
      ]
     },
     "execution_count": 19,
     "metadata": {},
     "output_type": "execute_result"
    }
   ],
   "source": [
    "df['yWendu']<-10"
   ]
  },
  {
   "cell_type": "code",
   "execution_count": 27,
   "metadata": {},
   "outputs": [
    {
     "data": {
      "text/html": [
       "<div>\n",
       "<style scoped>\n",
       "    .dataframe tbody tr th:only-of-type {\n",
       "        vertical-align: middle;\n",
       "    }\n",
       "\n",
       "    .dataframe tbody tr th {\n",
       "        vertical-align: top;\n",
       "    }\n",
       "\n",
       "    .dataframe thead th {\n",
       "        text-align: right;\n",
       "    }\n",
       "</style>\n",
       "<table border=\"1\" class=\"dataframe\">\n",
       "  <thead>\n",
       "    <tr style=\"text-align: right;\">\n",
       "      <th></th>\n",
       "      <th>bWendu</th>\n",
       "      <th>yWendu</th>\n",
       "      <th>Tianqi</th>\n",
       "      <th>Fengxiang</th>\n",
       "      <th>Fengli</th>\n",
       "      <th>aqi</th>\n",
       "      <th>aqiinfo</th>\n",
       "      <th>aqiLevel</th>\n",
       "    </tr>\n",
       "    <tr>\n",
       "      <th>YMD</th>\n",
       "      <th></th>\n",
       "      <th></th>\n",
       "      <th></th>\n",
       "      <th></th>\n",
       "      <th></th>\n",
       "      <th></th>\n",
       "      <th></th>\n",
       "      <th></th>\n",
       "    </tr>\n",
       "  </thead>\n",
       "  <tbody>\n",
       "    <tr>\n",
       "      <th>7/01/2018</th>\n",
       "      <td>4</td>\n",
       "      <td>-9</td>\n",
       "      <td>晴</td>\n",
       "      <td>东北风</td>\n",
       "      <td>1-2级</td>\n",
       "      <td>15</td>\n",
       "      <td>优</td>\n",
       "      <td>1</td>\n",
       "    </tr>\n",
       "  </tbody>\n",
       "</table>\n",
       "</div>"
      ],
      "text/plain": [
       "           bWendu  yWendu Tianqi Fengxiang Fengli  aqi aqiinfo  aqiLevel\n",
       "YMD                                                                     \n",
       "7/01/2018       4      -9      晴       东北风   1-2级   15       优         1"
      ]
     },
     "execution_count": 27,
     "metadata": {},
     "output_type": "execute_result"
    }
   ],
   "source": [
    "df.loc[(df['bWendu']<30) & (df['yWendu']>-10) & (df['Tianqi']=='晴') & (df['aqiLevel'] == 1), :]"
   ]
  },
  {
   "cell_type": "code",
   "execution_count": 28,
   "metadata": {},
   "outputs": [
    {
     "data": {
      "text/html": [
       "<div>\n",
       "<style scoped>\n",
       "    .dataframe tbody tr th:only-of-type {\n",
       "        vertical-align: middle;\n",
       "    }\n",
       "\n",
       "    .dataframe tbody tr th {\n",
       "        vertical-align: top;\n",
       "    }\n",
       "\n",
       "    .dataframe thead th {\n",
       "        text-align: right;\n",
       "    }\n",
       "</style>\n",
       "<table border=\"1\" class=\"dataframe\">\n",
       "  <thead>\n",
       "    <tr style=\"text-align: right;\">\n",
       "      <th></th>\n",
       "      <th>bWendu</th>\n",
       "      <th>yWendu</th>\n",
       "      <th>Tianqi</th>\n",
       "    </tr>\n",
       "    <tr>\n",
       "      <th>YMD</th>\n",
       "      <th></th>\n",
       "      <th></th>\n",
       "      <th></th>\n",
       "    </tr>\n",
       "  </thead>\n",
       "  <tbody>\n",
       "    <tr>\n",
       "      <th>2/01/2018</th>\n",
       "      <td>6</td>\n",
       "      <td>-4</td>\n",
       "      <td>阴-多云</td>\n",
       "    </tr>\n",
       "    <tr>\n",
       "      <th>5/01/2018</th>\n",
       "      <td>3</td>\n",
       "      <td>-6</td>\n",
       "      <td>阴</td>\n",
       "    </tr>\n",
       "    <tr>\n",
       "      <th>6/01/2018</th>\n",
       "      <td>5</td>\n",
       "      <td>-4</td>\n",
       "      <td>多云</td>\n",
       "    </tr>\n",
       "    <tr>\n",
       "      <th>7/01/2018</th>\n",
       "      <td>4</td>\n",
       "      <td>-9</td>\n",
       "      <td>晴</td>\n",
       "    </tr>\n",
       "  </tbody>\n",
       "</table>\n",
       "</div>"
      ],
      "text/plain": [
       "           bWendu  yWendu Tianqi\n",
       "YMD                             \n",
       "2/01/2018       6      -4   阴-多云\n",
       "5/01/2018       3      -6      阴\n",
       "6/01/2018       5      -4     多云\n",
       "7/01/2018       4      -9      晴"
      ]
     },
     "execution_count": 28,
     "metadata": {},
     "output_type": "execute_result"
    }
   ],
   "source": [
    "df.loc[lambda df: (df['bWendu']<30) & (df['yWendu']>-10), 'bWendu':'Tianqi']"
   ]
  },
  {
   "cell_type": "code",
   "execution_count": 35,
   "metadata": {},
   "outputs": [
    {
     "data": {
      "text/html": [
       "<div>\n",
       "<style scoped>\n",
       "    .dataframe tbody tr th:only-of-type {\n",
       "        vertical-align: middle;\n",
       "    }\n",
       "\n",
       "    .dataframe tbody tr th {\n",
       "        vertical-align: top;\n",
       "    }\n",
       "\n",
       "    .dataframe thead th {\n",
       "        text-align: right;\n",
       "    }\n",
       "</style>\n",
       "<table border=\"1\" class=\"dataframe\">\n",
       "  <thead>\n",
       "    <tr style=\"text-align: right;\">\n",
       "      <th></th>\n",
       "      <th>bWendu</th>\n",
       "      <th>yWendu</th>\n",
       "      <th>Tianqi</th>\n",
       "      <th>Fengxiang</th>\n",
       "      <th>Fengli</th>\n",
       "      <th>aqi</th>\n",
       "      <th>aqiinfo</th>\n",
       "      <th>aqiLevel</th>\n",
       "    </tr>\n",
       "    <tr>\n",
       "      <th>YMD</th>\n",
       "      <th></th>\n",
       "      <th></th>\n",
       "      <th></th>\n",
       "      <th></th>\n",
       "      <th></th>\n",
       "      <th></th>\n",
       "      <th></th>\n",
       "      <th></th>\n",
       "    </tr>\n",
       "  </thead>\n",
       "  <tbody>\n",
       "    <tr>\n",
       "      <th>5/01/2018</th>\n",
       "      <td>3</td>\n",
       "      <td>-6</td>\n",
       "      <td>阴</td>\n",
       "      <td>南风</td>\n",
       "      <td>2级</td>\n",
       "      <td>54</td>\n",
       "      <td>良</td>\n",
       "      <td>2</td>\n",
       "    </tr>\n",
       "  </tbody>\n",
       "</table>\n",
       "</div>"
      ],
      "text/plain": [
       "           bWendu  yWendu Tianqi Fengxiang Fengli  aqi aqiinfo  aqiLevel\n",
       "YMD                                                                     \n",
       "5/01/2018       3      -6      阴        南风     2级   54       良         2"
      ]
     },
     "execution_count": 35,
     "metadata": {},
     "output_type": "execute_result"
    }
   ],
   "source": [
    "def query_my_data(df):\n",
    "    return (df.index.str.startswith('5/01/2018')) & (df['aqiLevel'] <= 2)\n",
    "\n",
    "df.loc[query_my_data, :]"
   ]
  }
 ],
 "metadata": {
  "kernelspec": {
   "display_name": "Python 3",
   "language": "python",
   "name": "python3"
  },
  "language_info": {
   "codemirror_mode": {
    "name": "ipython",
    "version": 3
   },
   "file_extension": ".py",
   "mimetype": "text/x-python",
   "name": "python",
   "nbconvert_exporter": "python",
   "pygments_lexer": "ipython3",
   "version": "3.10.9 (tags/v3.10.9:1dd9be6, Dec  6 2022, 20:01:21) [MSC v.1934 64 bit (AMD64)]"
  },
  "orig_nbformat": 4,
  "vscode": {
   "interpreter": {
    "hash": "1bf0dbbb4f5be86e7d40bba1dd39b226aa38c4806ec7f91362d53e5875e69c4e"
   }
  }
 },
 "nbformat": 4,
 "nbformat_minor": 2
}
